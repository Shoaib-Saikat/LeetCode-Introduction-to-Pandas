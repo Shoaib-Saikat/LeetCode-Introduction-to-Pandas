{
 "cells": [
  {
   "cell_type": "markdown",
   "id": "cd2ca42d",
   "metadata": {},
   "source": [
    "# LeetCode: Introduction to Pandas "
   ]
  },
  {
   "cell_type": "markdown",
   "id": "84b8b6ac",
   "metadata": {},
   "source": [
    "# 2877. Create a DataFrame from List"
   ]
  },
  {
   "cell_type": "code",
   "execution_count": null,
   "id": "c74d98e1",
   "metadata": {},
   "outputs": [],
   "source": [
    "# accepted\n",
    "import pandas as pd\n",
    "\n",
    "def createDataframe(student_data: List[List[int]]) -> pd.DataFrame:\n",
    "    df = pd.DataFrame(student_data, columns=['student_id','age'])\n",
    "    return df"
   ]
  },
  {
   "cell_type": "markdown",
   "id": "3514f98d",
   "metadata": {},
   "source": [
    "# 2878. Get the Size of a DataFrame"
   ]
  },
  {
   "cell_type": "code",
   "execution_count": 5,
   "id": "090485f2",
   "metadata": {},
   "outputs": [
    {
     "data": {
      "text/plain": [
       "(4, 2)"
      ]
     },
     "execution_count": 5,
     "metadata": {},
     "output_type": "execute_result"
    }
   ],
   "source": [
    "#accepted\n",
    "import pandas as pd\n",
    "\n",
    "def getDataframeSize(players: pd.DataFrame) -> List[int]:\n",
    "    return list(players.shape)"
   ]
  },
  {
   "cell_type": "markdown",
   "id": "189a0c5a",
   "metadata": {},
   "source": [
    "# 2879. Display the First Three Rows"
   ]
  },
  {
   "cell_type": "code",
   "execution_count": null,
   "id": "0792290e",
   "metadata": {},
   "outputs": [],
   "source": [
    "# accepted\n",
    "import pandas as pd\n",
    "\n",
    "def selectFirstRows(employees: pd.DataFrame) -> pd.DataFrame:\n",
    "    return employees.head(3)"
   ]
  },
  {
   "cell_type": "markdown",
   "id": "5641c1f6",
   "metadata": {},
   "source": [
    "# 2880. Select Data"
   ]
  },
  {
   "cell_type": "code",
   "execution_count": null,
   "id": "6d6ad213",
   "metadata": {},
   "outputs": [],
   "source": [
    "# accepted\n",
    "import pandas as pd\n",
    "\n",
    "def selectFirstRows(employees: pd.DataFrame) -> pd.DataFrame:\n",
    "    return employees.head(3)\n",
    "    "
   ]
  },
  {
   "cell_type": "markdown",
   "id": "7bc51a75",
   "metadata": {},
   "source": [
    "# 2881. Create a New Column"
   ]
  },
  {
   "cell_type": "code",
   "execution_count": null,
   "id": "62a96385",
   "metadata": {},
   "outputs": [],
   "source": [
    "# accepted\n",
    "import pandas as pd\n",
    "\n",
    "def createBonusColumn(employees: pd.DataFrame) -> pd.DataFrame:\n",
    "    employees['bonus'] = employees['salary']*2\n",
    "    return employees"
   ]
  },
  {
   "cell_type": "markdown",
   "id": "68f0d37a",
   "metadata": {},
   "source": [
    "# 2882. Drop Duplicate Rows"
   ]
  },
  {
   "cell_type": "code",
   "execution_count": null,
   "id": "a1e2cd84",
   "metadata": {},
   "outputs": [],
   "source": [
    "# accepted\n",
    "import pandas as pd\n",
    "\n",
    "def dropDuplicateEmails(customers: pd.DataFrame) -> pd.DataFrame:\n",
    "    filt = customers['email'].duplicated()\n",
    "    customers = customers.loc[~filt]\n",
    "    return customers"
   ]
  },
  {
   "cell_type": "markdown",
   "id": "0d0fefdd",
   "metadata": {},
   "source": [
    "# 2883. Drop Missing Data"
   ]
  },
  {
   "cell_type": "code",
   "execution_count": 6,
   "id": "a3034d1b",
   "metadata": {},
   "outputs": [],
   "source": [
    "# accepted \n",
    "import pandas as pd\n",
    "\n",
    "def dropMissingData(students: pd.DataFrame) -> pd.DataFrame:\n",
    "    students.dropna(axis='index', how = 'any', subset=['name'], inplace=True)\n",
    "    return students"
   ]
  },
  {
   "cell_type": "markdown",
   "id": "cac2a833",
   "metadata": {},
   "source": [
    "# 2884. Modify Columns"
   ]
  },
  {
   "cell_type": "code",
   "execution_count": null,
   "id": "fc287142",
   "metadata": {},
   "outputs": [],
   "source": [
    "# accepted\n",
    "import pandas as pd\n",
    "\n",
    "def modifySalaryColumn(employees: pd.DataFrame) -> pd.DataFrame:\n",
    "    employees['salary'] = employees['salary']*2\n",
    "    return employees"
   ]
  },
  {
   "cell_type": "markdown",
   "id": "c504ea78",
   "metadata": {},
   "source": [
    "# 2885. Rename Columns"
   ]
  },
  {
   "cell_type": "code",
   "execution_count": null,
   "id": "a9679e26",
   "metadata": {},
   "outputs": [],
   "source": [
    "# accepted\n",
    "import pandas as pd\n",
    "\n",
    "def renameColumns(students: pd.DataFrame) -> pd.DataFrame:\n",
    "    students.columns=['student_id','first_name','last_name','age_in_years']\n",
    "    return students"
   ]
  },
  {
   "cell_type": "markdown",
   "id": "7545c9d0",
   "metadata": {},
   "source": [
    "# 2886. Change Data Type"
   ]
  },
  {
   "cell_type": "code",
   "execution_count": null,
   "id": "19067467",
   "metadata": {},
   "outputs": [],
   "source": [
    "# accepted\n",
    "import pandas as pd\n",
    "\n",
    "def changeDatatype(students: pd.DataFrame) -> pd.DataFrame:\n",
    "    students['grade']=students['grade'].astype(int)\n",
    "    return students"
   ]
  },
  {
   "cell_type": "markdown",
   "id": "f991e0fd",
   "metadata": {},
   "source": [
    "# 2887. Fill Missing Data"
   ]
  },
  {
   "cell_type": "code",
   "execution_count": 7,
   "id": "a32336e7",
   "metadata": {},
   "outputs": [],
   "source": [
    "# accepted\n",
    "import pandas as pd\n",
    "\n",
    "def fillMissingValues(products: pd.DataFrame) -> pd.DataFrame:\n",
    "    products['quantity'].fillna(0,inplace=True)\n",
    "    return products"
   ]
  },
  {
   "cell_type": "markdown",
   "id": "e832cb64",
   "metadata": {},
   "source": [
    "# 2888. Reshape Data: Concatenate"
   ]
  },
  {
   "cell_type": "code",
   "execution_count": 8,
   "id": "23f2face",
   "metadata": {},
   "outputs": [],
   "source": [
    "# accepted\n",
    "import pandas as pd\n",
    "\n",
    "def concatenateTables(df1: pd.DataFrame, df2: pd.DataFrame) -> pd.DataFrame:\n",
    "    df3 = pd.concat([df1,df2], axis=0)\n",
    "    return df3"
   ]
  },
  {
   "cell_type": "markdown",
   "id": "6611d8ef",
   "metadata": {},
   "source": [
    "# 2889. Reshape Data: Pivot"
   ]
  },
  {
   "cell_type": "code",
   "execution_count": null,
   "id": "fca788c2",
   "metadata": {},
   "outputs": [],
   "source": [
    "# accepted\n",
    "import pandas as pd\n",
    "\n",
    "def pivotTable(weather: pd.DataFrame) -> pd.DataFrame:\n",
    "    return weather.pivot_table(index='month', columns='city', values='temperature', aggfunc='max')"
   ]
  },
  {
   "cell_type": "markdown",
   "id": "5cf20a00",
   "metadata": {},
   "source": [
    "# 2890. Reshape Data: Melt"
   ]
  },
  {
   "cell_type": "code",
   "execution_count": null,
   "id": "c8dca2d1",
   "metadata": {},
   "outputs": [],
   "source": [
    "# accepted\n",
    "import pandas as pd\n",
    "\n",
    "def meltTable(report: pd.DataFrame) -> pd.DataFrame:\n",
    "    return report.melt(id_vars=['product'],var_name='quarter',value_name='sales')"
   ]
  },
  {
   "cell_type": "markdown",
   "id": "f88c2e8a",
   "metadata": {},
   "source": [
    "# 2891. Method Chaining"
   ]
  },
  {
   "cell_type": "code",
   "execution_count": null,
   "id": "7f21e054",
   "metadata": {},
   "outputs": [],
   "source": [
    "# accepted\n",
    "import pandas as pd\n",
    "\n",
    "def findHeavyAnimals(animals: pd.DataFrame) -> pd.DataFrame:\n",
    "    filt = animals['weight'] > 100\n",
    "    return pd.DataFrame((animals.loc[filt].sort_values(by='weight',ascending=False))['name'])"
   ]
  }
 ],
 "metadata": {
  "kernelspec": {
   "display_name": "Python 3 (ipykernel)",
   "language": "python",
   "name": "python3"
  },
  "language_info": {
   "codemirror_mode": {
    "name": "ipython",
    "version": 3
   },
   "file_extension": ".py",
   "mimetype": "text/x-python",
   "name": "python",
   "nbconvert_exporter": "python",
   "pygments_lexer": "ipython3",
   "version": "3.9.18"
  }
 },
 "nbformat": 4,
 "nbformat_minor": 5
}
